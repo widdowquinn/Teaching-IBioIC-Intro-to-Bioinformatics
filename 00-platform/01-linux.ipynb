{
 "cells": [
  {
   "cell_type": "markdown",
   "metadata": {
    "deletable": true,
    "editable": true
   },
   "source": [
    "<img src=\"images/JHI_STRAP_Web.png\" style=\"width: 150px; float: right;\">\n",
    "# 00 - Software Platform"
   ]
  },
  {
   "cell_type": "markdown",
   "metadata": {
    "deletable": true,
    "editable": true
   },
   "source": [
    "## Table of Contents\n",
    "\n",
    "1. [Introduction](#introduction)\n",
    "2. [Remote access to the command line](#command_line) (text)\n",
    "3. [Remote access to graphical programs](#xwindows) (showing tools on your screen)\n",
    "4. [Remote access to the Linux desktop](#remote_desktop) (like seeing the whole screen)"
   ]
  },
  {
   "cell_type": "markdown",
   "metadata": {
    "deletable": true,
    "editable": true
   },
   "source": [
    "<a id=\"introduction\"></a>\n",
    "## Introduction\n",
    "\n",
    "In this workshop you will be using a Windows Desktop computer in order to access a remote Linux Server computer, and run programs there.\n",
    "\n",
    "What is Linux? It is a free open source operating system replicating the capabilities of earlier commericial Unix systems. While most laptops today run Microsoft Windows or Apple macOS, for servers and clusters Linux is much more common.\n",
    "\n",
    "Why use Linux? The majority of cutting edge bioinformatics tools are written for use under Linux. Many of these tools will also work directly on Apple macOS, which is also a type of Unix. Relatively few bioinformatics tools will run under Microsoft Windows - although interestingly Windows 10 has the capability run Ubuntu Linux for a hybrid approach."
   ]
  },
  {
   "cell_type": "markdown",
   "metadata": {
    "deletable": true,
    "editable": true
   },
   "source": [
    "<a id=\"command_line\"></a>\n",
    "### Command Line\n",
    "\n",
    "<div class=\"alert-success\">\n",
    "<b>Fundamential of working at the Linux command line</b>\n",
    "</div>\n",
    "\n",
    "If you were sitting at Linux or Apple computer, there would be a standard \"Terminal\" application for accessing the (Unix) command line. From this command line terminal you could access remote Unix/Linux servers using the ``ssh`` command.\n",
    "\n",
    "The name \"Terminal\" was originally used for physical terminals, which were little more than a black and white screen with keyboard connected to a large shared Unix server computer out of sight, perhaps in the basement.\n",
    "\n",
    "However, today we want to access a Linux server from a Windows computer. There are multiple software packages which could be installed to do this,\n",
    "but we'll use [MobaXterm](http://mobaxterm.mobatek.net) which can also handle graphical tools which we will discuss below.\n",
    "\n",
    "It's time for a live demonstation - your instructors will show you how to start MobaXterm, and give out usernames (here represented by ``userXX``) and password to connect to the Linux server setup for this workshop (here represented by ``servername``).\n",
    "\n",
    "When you log onto a Linux server you'll generally get a welcome message setup by the server administrator, and a dollar sign prompt something like this:\n",
    "\n",
    "```\n",
    "Last login: Mon Mar  6 16:29:40 2017 from 143.234.97.96\n",
    "[userXX@servername ~]$\n",
    "```\n",
    "\n",
    "You should be able to type and see the letters appear on the screen. Once you press the enter key, the text will be interpreted as a command and executed. e.g. Try typing ``d``, ``a``, ``t``, ``e`` and enter - you should see something like this:\n",
    "\n",
    "\n",
    "```\n",
    "[userXX@servername ~]$ date\n",
    "Tue Mar  7 16:21:27 GMT 2017\n",
    "```\n",
    "\n",
    "This command would be run on the Linux server you have connected to, so it might differ slightly from the clock on your Windows desktop computer.\n",
    "\n",
    "### Files and directories\n",
    "\n",
    "One of the most important commands you will learn is ``ls``, short for list, which by default lists all the files in the current working directory. Try this:\n",
    "\n",
    "```\n",
    "[userXX@servername ~]$ ls\n",
    "Desktop           Pictures\n",
    "Documents         Public\n",
    "Downloads         Teaching-IBioIC-Intro-to-Bioinformatics\n",
    "examples.desktop  Templates\n",
    "Music             Videos\n",
    "```\n",
    "\n",
    "Here ``Teaching-IBioIC-Intro-to-Bioinformatics`` represents a sub-directory underneath the current working directory. You can tell ``ls`` to list files in specific places, e.g.\n",
    "\n",
    "```\n",
    "[userXX@servername ~]$ ls Teaching-IBioIC-Intro-to-Bioinformatics/\n",
    "00-platform             04-structure        index.ipynb\n",
    "01-introduction         Dockerfile          install-apps.sh\n",
    "01-sequences            README.md           requirements.txt\n",
    "02-sequence_databases   VM_setup.md         users.txt\n",
    "03-lipases              create_users.sh\n",
    "```\n",
    "\n",
    "Here ``Teaching-IBioIC-Intro-to-Bioinformatics/`` is being interpreted as a relative path, starting from the current working directory. The command ``pwd`` reports the present working directory:\n",
    "\n",
    "\n",
    "```\n",
    "[userXX@servername ~]$ pwd\n",
    "/home/userXX\n",
    "```\n",
    "\n",
    "i.e. Starting from ``/home/userXX``, the relative path ``Teaching-IBioIC-Intro-to-Bioinformatics/`` means the same as the absolute path ``/home/userXXX/Teaching-IBioIC-Intro-to-Bioinformatics/``.\n",
    "\n",
    "You can change the directory with the ``cd`` command,\n",
    "\n",
    "```\n",
    "[userXX@servername ~]$ cd Teaching-IBioIC-Intro-to-Bioinformatics/\n",
    "[userXX@servername Teaching-IBioIC-Intro-to-Bioinformatics]$ pwd\n",
    "/home/userXX/Teaching-IBioIC-Intro-to-Bioinformatics\n",
    "```\n",
    "\n",
    "Notice that the ``cd`` command did not print out any output (it just silently changed the directory). However, in this example the prompt did change. This example assume a common configuration showing the username, server name, and the final part of the current working directory. \n",
    "\n",
    "\n",
    "Now if you run just ``ls``, because the current directory has changed you get:\n",
    "\n",
    "```\n",
    "[userXX@servername Teaching-IBioIC-Intro-to-Bioinformatics]$ ls\n",
    "00-platform             04-structure        index.ipynb\n",
    "01-introduction         Dockerfile          install-apps.sh\n",
    "01-sequences            README.md           requirements.txt\n",
    "02-sequence_databases   VM_setup.md         users.txt\n",
    "03-lipases              create_users.sh\n",
    "```\n",
    "\n",
    "And, if you try ``ls Teaching-IBioIC-Intro-to-Bioinformatics/`` you'll get an error:\n",
    "\n",
    "```\n",
    "[userXX@servername Teaching-IBioIC-Intro-to-Bioinformatics]$ ls Teaching-IBioIC-Intro-to-Bioinformatics/\n",
    "ls: Teaching-IBioIC-Intro-to-Bioinformatics/: No such file or directory\n",
    "```\n",
    "\n",
    "You can go \"up\" one level in the directory try using the special relative path ``..``, e.g. ``cd ..`` which is ``c``, ``d``, space, dot, dot (and then enter).\n",
    "\n",
    "You can return to the home directory using just ``cd`` on its own.\n",
    "\n",
    "For simplicity, in most examples the command prompt will be shown as just ``$``. In the examples above it captured the username, computer name, and the final part of the current directory, or ``~`` which is a convention for the current directory.\n",
    "\n",
    "Note that Microsoft Windows does include its own command line, both an older system known as DOS and a more recent one called PowerShell, but they work a little differently to the Unix conventions (for example using ``\\`` rather than ``/`` for directory names).\n",
    "\n",
    "\n"
   ]
  },
  {
   "cell_type": "markdown",
   "metadata": {
    "deletable": true,
    "editable": true
   },
   "source": [
    "<a id=\"xwindows\"></a>\n",
    "### Graphical Programs\n",
    "\n",
    "<div class=\"alert-success\">\n",
    "<b>Fundamential of running Linux graphical tools via X-Windows</b>\n",
    "</div>\n",
    "\n",
    "The examples so far have been very simple - our keyboard input has been sent from the Windows computer over the network to the Linux server, and the text output from it has been sent back.\n",
    "\n",
    "The Unix and Linux world have something called X-Windows which also allows your computer to send mouse movements and clicks to the remote server, and have it send back graphics to show on your screen.\n",
    "\n",
    "We'll try this now using the web-browser Firefox, where as long as the network and server are fast enough, it should feel almost like Firefox is running on your own computer directly.\n",
    "\n",
    "```\n",
    "$ firefox\n",
    "```\n",
    "\n",
    "This *should* start up Firefox, and once you quit Firefox you'll get the ``$`` interactive command line prompt again.\n",
    "\n",
    "A slight variation is as follows:\n",
    "\n",
    "```\n",
    "$ firefox &\n",
    "```\n",
    "\n",
    "Adding the ampersand tells Linux to run Firefox seprarately without waiting for it to finish, so you immediately get the ``$`` prompt again.\n",
    "\n",
    "You can pass option to Firefox when starting it this way, for example to open a particular URL:\n",
    "\n",
    "```\n",
    "$ firefox \"https://www.ncbi.nlm.nih.gov/nuccore/197283915?report=genbank&from=1061561&to=1065440\" &\n",
    "```\n",
    "\n",
    "Note because this URL includes special characters (the ampersands), we've had to put quote marks round it.\n"
   ]
  },
  {
   "cell_type": "markdown",
   "metadata": {
    "deletable": true,
    "editable": true
   },
   "source": [
    "<a id=\"remote_desktop\"></a>\n",
    "### Remote Desktop\n",
    "\n",
    "<div class=\"alert-success\">\n",
    "<b>It is possible to have remote access to a Linux graphical desktop</b>\n",
    "</div>\n",
    "\n",
    "Windows and Apple Mac have ways to remotely access a computer as though you were in front of it - seeing everything which would have been on screen, multiple applications includes the start menu or dock.\n",
    "\n",
    "This is possible under Linux, but we're not going to use it here."
   ]
  },
  {
   "cell_type": "markdown",
   "metadata": {
    "deletable": true,
    "editable": true
   },
   "source": [
    "### Resources\n",
    "\n",
    "* [Biopython Tutorial and Cookbook](http://biopython.org/DIST/docs/tutorial/Tutorial.html)\n",
    "* [Biopython Tutorial and Cookbook (PDF)](http://biopython.org/DIST/docs/tutorial/Tutorial.pdf)\n",
    "* [NCBI's list of genetic codes](https://www.ncbi.nlm.nih.gov/Taxonomy/Utils/wprintgc.cgi)\n",
    "\n",
    " "
   ]
  }
 ],
 "metadata": {
  "kernelspec": {
   "display_name": "Python 3",
   "language": "python",
   "name": "python3"
  },
  "language_info": {
   "codemirror_mode": {
    "name": "ipython",
    "version": 3
   },
   "file_extension": ".py",
   "mimetype": "text/x-python",
   "name": "python",
   "nbconvert_exporter": "python",
   "pygments_lexer": "ipython3",
   "version": "3.6.0"
  }
 },
 "nbformat": 4,
 "nbformat_minor": 2
}
